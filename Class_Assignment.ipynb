{
  "nbformat": 4,
  "nbformat_minor": 0,
  "metadata": {
    "colab": {
      "provenance": [],
      "authorship_tag": "ABX9TyMC/h6oyZPCpz6ADRxbyclS",
      "include_colab_link": true
    },
    "kernelspec": {
      "name": "python3",
      "display_name": "Python 3"
    },
    "language_info": {
      "name": "python"
    }
  },
  "cells": [
    {
      "cell_type": "markdown",
      "metadata": {
        "id": "view-in-github",
        "colab_type": "text"
      },
      "source": [
        "<a href=\"https://colab.research.google.com/github/charmy-parekh/Python_Assignments/blob/main/Class_Assignment.ipynb\" target=\"_parent\"><img src=\"https://colab.research.google.com/assets/colab-badge.svg\" alt=\"Open In Colab\"/></a>"
      ]
    },
    {
      "cell_type": "markdown",
      "source": [
        "**Question : 1 and 2**"
      ],
      "metadata": {
        "id": "7AZH5oFE1Ov-"
      }
    },
    {
      "cell_type": "code",
      "execution_count": 26,
      "metadata": {
        "id": "roHlj4rjr8Ba"
      },
      "outputs": [],
      "source": [
        "class Vehicle:\n",
        "  def __init__(self,vehicle_name,max_speed,avg_of_vehicle):\n",
        "    self.vehicle_name = vehicle_name\n",
        "    self.max_speed = max_speed\n",
        "    self.avg_of_vehicle = avg_of_vehicle\n",
        "\n",
        "  def display(self):\n",
        "    return f\"This is a {self.vehicle_name}\"\n",
        "\n",
        "\n",
        "class Car(Vehicle):\n",
        "  def __init__(self,vehicle_name, max_speed, avg_of_vehicle):\n",
        "    super().__init__(vehicle_name,max_speed,avg_of_vehicle)\n",
        "\n",
        "\n",
        "  def seating_capacity(self,capacity):\n",
        "    return f\"{self.vehicle_name} has a seating capacity of {capacity} passengers.\""
      ]
    },
    {
      "cell_type": "code",
      "source": [
        "car = Car(\"Honda\",150,60)\n",
        "print(car.seating_capacity(5))\n"
      ],
      "metadata": {
        "colab": {
          "base_uri": "https://localhost:8080/"
        },
        "id": "oQlrcFkmvFgZ",
        "outputId": "37c38b4c-9f51-46a5-b397-eb1394a810c0"
      },
      "execution_count": 27,
      "outputs": [
        {
          "output_type": "stream",
          "name": "stdout",
          "text": [
            "Honda has a seating capacity of 5 passengers.\n"
          ]
        }
      ]
    },
    {
      "cell_type": "markdown",
      "source": [
        "**Question : 4**"
      ],
      "metadata": {
        "id": "4S_VytHLvw8n"
      }
    },
    {
      "cell_type": "code",
      "source": [
        "class Person:\n",
        "  def __init__(self,name,age,gender):\n",
        "    self.name = name\n",
        "    self.age = age\n",
        "    self.gender = gender\n",
        "\n",
        "  def say_hello(self):\n",
        "    print(f\"Hello {self.name}. Have a great day ahead!!\")\n",
        "\n",
        "  def isAdult(self):\n",
        "    return self.age>=18\n",
        "\n",
        "person1 = Person(\"Charmy\", 25, \"Female\")\n",
        "person1.say_hello()\n",
        "print(f\"Is {person1.name} an adult? {person1.isAdult()}\")\n",
        "\n",
        "person2 = Person(\"Jitesh\", 16, \"Male\")\n",
        "person2.say_hello()\n",
        "print(f\"Is {person2.name} an adult? {person2.isAdult()}\")"
      ],
      "metadata": {
        "colab": {
          "base_uri": "https://localhost:8080/"
        },
        "id": "g_LU2p72vvtF",
        "outputId": "3ff3e15b-bf23-4f95-84b2-625fd8997210"
      },
      "execution_count": 14,
      "outputs": [
        {
          "output_type": "stream",
          "name": "stdout",
          "text": [
            "Hello Charmy. Have a great day ahead!!\n",
            "Is Charmy an adult? True\n",
            "Hello Jitesh. Have a great day ahead!!\n",
            "Is Jitesh an adult? False\n"
          ]
        }
      ]
    },
    {
      "cell_type": "code",
      "source": [
        "class Student(Person):\n",
        "  def __init__(self, name, age, gender, student_id, course):\n",
        "        super().__init__(name, age, gender)\n",
        "        self.student_id = student_id\n",
        "        self.course = course\n",
        "\n",
        "  def display_student_info(self):\n",
        "        print(f\"Student ID: {self.student_id}\")\n",
        "        print(f\"Student Name: {self.name}\")\n",
        "        print(f\"Age: {self.age}\")\n",
        "        print(f\"Gender: {self.gender}\")\n",
        "        print(f\"Course: {self.course}\")\n",
        "\n",
        "student = Student(\"Charmy\", 25, \"Female\", \"C0887492\", \"Full Stack Development\")\n",
        "student.say_hello()\n",
        "student.display_student_info()\n",
        "print(f\"Is {student.name} an adult? {student.isAdult()}\")"
      ],
      "metadata": {
        "colab": {
          "base_uri": "https://localhost:8080/"
        },
        "id": "WhcIsdyczgg5",
        "outputId": "b5cfdd22-796b-4fe9-b48c-40057c39fdb0"
      },
      "execution_count": 16,
      "outputs": [
        {
          "output_type": "stream",
          "name": "stdout",
          "text": [
            "Student ID: C0887492\n",
            "Student Name: Charmy\n",
            "Age: 25\n",
            "Gender: Female\n",
            "Course: Full Stack Development\n",
            "Is Charmy an adult? True\n"
          ]
        }
      ]
    },
    {
      "cell_type": "code",
      "source": [
        "class Teacher(Person):\n",
        "    def __init__(self, name, age, gender, teacher_id, subject):\n",
        "        super().__init__(name, age, gender)\n",
        "        self.teacher_id = teacher_id\n",
        "        self.subject = subject\n",
        "\n",
        "    def display_info(self):\n",
        "        print(f\"Teacher ID: {self.teacher_id}\")\n",
        "        print(f\"Teacher Name: {self.name}\")\n",
        "        print(f\"Age: {self.age}\")\n",
        "        print(f\"Gender: {self.gender}\")\n",
        "        print(f\"Subject: {self.subject}\")\n",
        "\n",
        "teacher = Teacher(\"Jitesh\", 25, \"Male\", \"T90992\", \"Python\")\n",
        "teacher.say_hello()\n",
        "teacher.display_info()"
      ],
      "metadata": {
        "colab": {
          "base_uri": "https://localhost:8080/"
        },
        "id": "EZf2jEQI17O-",
        "outputId": "085a4c07-fa56-482b-a8be-5c4b95ad742f"
      },
      "execution_count": 29,
      "outputs": [
        {
          "output_type": "stream",
          "name": "stdout",
          "text": [
            "Teacher ID: T90992\n",
            "Teacher Name: Jitesh\n",
            "Age: 25\n",
            "Gender: Male\n",
            "Subject: Python\n"
          ]
        }
      ]
    },
    {
      "cell_type": "markdown",
      "source": [
        "**Question 3:**\n"
      ],
      "metadata": {
        "id": "30Ae9sDf2eXe"
      }
    },
    {
      "cell_type": "code",
      "source": [
        "class Circle:\n",
        "    def __init__(self, radius):\n",
        "        self.radius = radius\n",
        "\n",
        "    def area(self):\n",
        "        return 3.14 * self.radius * self.radius\n",
        "\n",
        "class Rectangle:\n",
        "    def __init__(self, length, width):\n",
        "        self.length = length\n",
        "        self.width = width\n",
        "\n",
        "    def area(self):\n",
        "        return self.length * self.width\n",
        "\n",
        "class Square:\n",
        "    def __init__(self, side_length):\n",
        "        self.side_length = side_length\n",
        "\n",
        "    def area(self):\n",
        "        return self.side_length * self.side_length\n",
        "\n",
        "class AreaCalculator(Circle, Rectangle, Square):\n",
        "    def __init__(self, radius, length, width, side_length):\n",
        "        Circle.__init__(self, radius)\n",
        "        Rectangle.__init__(self, length, width)\n",
        "        Square.__init__(self, side_length)\n",
        "\n",
        "    def total_area(self):\n",
        "        return self.area() + self.area() + self.area()\n",
        "\n",
        "calculator = AreaCalculator(radius=5, length=4, width=6, side_length=3)\n",
        "\n",
        "print(f\"Area of the circle: {calculator.area()}\")\n",
        "print(f\"Area of the rectangle: {calculator.area()}\")\n",
        "print(f\"Area of the square: {calculator.area()}\")\n"
      ],
      "metadata": {
        "colab": {
          "base_uri": "https://localhost:8080/"
        },
        "id": "voMLKe_72jNu",
        "outputId": "2bb247e0-99a6-45a8-a3e8-0027f6f673cf"
      },
      "execution_count": 31,
      "outputs": [
        {
          "output_type": "stream",
          "name": "stdout",
          "text": [
            "Area of the circle: 78.5\n",
            "Area of the rectangle: 78.5\n",
            "Area of the square: 78.5\n"
          ]
        }
      ]
    }
  ]
}